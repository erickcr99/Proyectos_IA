{
  "nbformat": 4,
  "nbformat_minor": 0,
  "metadata": {
    "colab": {
      "provenance": []
    },
    "kernelspec": {
      "name": "python3",
      "display_name": "Python 3"
    },
    "language_info": {
      "name": "python"
    }
  },
  "cells": [
    {
      "cell_type": "code",
      "execution_count": 13,
      "metadata": {
        "colab": {
          "base_uri": "https://localhost:8080/"
        },
        "id": "a9g6z6iGU3dY",
        "outputId": "ba9592ea-3185-4f88-f453-bbc9ce796765"
      },
      "outputs": [
        {
          "output_type": "stream",
          "name": "stdout",
          "text": [
            "Requirement already satisfied: numpy in /usr/local/lib/python3.11/dist-packages (2.0.2)\n",
            "Requirement already satisfied: pandas in /usr/local/lib/python3.11/dist-packages (2.2.2)\n",
            "Requirement already satisfied: scikit-learn in /usr/local/lib/python3.11/dist-packages (1.6.1)\n",
            "Requirement already satisfied: python-dateutil>=2.8.2 in /usr/local/lib/python3.11/dist-packages (from pandas) (2.8.2)\n",
            "Requirement already satisfied: pytz>=2020.1 in /usr/local/lib/python3.11/dist-packages (from pandas) (2025.1)\n",
            "Requirement already satisfied: tzdata>=2022.7 in /usr/local/lib/python3.11/dist-packages (from pandas) (2025.1)\n",
            "Requirement already satisfied: scipy>=1.6.0 in /usr/local/lib/python3.11/dist-packages (from scikit-learn) (1.14.1)\n",
            "Requirement already satisfied: joblib>=1.2.0 in /usr/local/lib/python3.11/dist-packages (from scikit-learn) (1.4.2)\n",
            "Requirement already satisfied: threadpoolctl>=3.1.0 in /usr/local/lib/python3.11/dist-packages (from scikit-learn) (3.6.0)\n",
            "Requirement already satisfied: six>=1.5 in /usr/local/lib/python3.11/dist-packages (from python-dateutil>=2.8.2->pandas) (1.17.0)\n"
          ]
        }
      ],
      "source": [
        "pip install numpy pandas scikit-learn\n"
      ]
    },
    {
      "cell_type": "code",
      "source": [
        "# Importación de bibliotecas\n",
        "import numpy as np\n",
        "import pandas as pd\n",
        "from sklearn.metrics.pairwise import cosine_similarity\n",
        "from sklearn.feature_extraction.text import TfidfVectorizer\n",
        "from sklearn.decomposition import TruncatedSVD\n",
        "from sklearn.impute import SimpleImputer\n",
        "import matplotlib.pyplot as plt\n",
        "import seaborn as sns\n",
        "\n",
        "# Cargar datos de calificaciones\n",
        "ratings = pd.read_csv('ratings.csv')\n",
        "# Mostrar las primeras filas de ratings\n",
        "print(\"Primeras filas de ratings:\")\n",
        "print(ratings.head())\n",
        "\n",
        "# Cargar datos de películas\n",
        "movies = pd.read_csv('movies.csv')\n",
        "# Mostrar las primeras filas de movies\n",
        "print(\"\\nPrimeras filas de movies:\")\n",
        "print(movies.head())\n"
      ],
      "metadata": {
        "colab": {
          "base_uri": "https://localhost:8080/"
        },
        "id": "ibd3zf1cVLpM",
        "outputId": "e6f292f6-3ca4-4d1b-b67f-e5f5fd52d5d1"
      },
      "execution_count": 16,
      "outputs": [
        {
          "output_type": "stream",
          "name": "stdout",
          "text": [
            "Primeras filas de ratings:\n",
            "   userId  movieId  rating  timestamp\n",
            "0       1        1     4.0  964982703\n",
            "1       1        3     4.0  964981247\n",
            "2       1        6     4.0  964982224\n",
            "3       1       47     5.0  964983815\n",
            "4       1       50     5.0  964982931\n",
            "\n",
            "Primeras filas de movies:\n",
            "   movieId                               title  \\\n",
            "0        1                    Toy Story (1995)   \n",
            "1        2                      Jumanji (1995)   \n",
            "2        3             Grumpier Old Men (1995)   \n",
            "3        4            Waiting to Exhale (1995)   \n",
            "4        5  Father of the Bride Part II (1995)   \n",
            "\n",
            "                                        genres  \n",
            "0  Adventure|Animation|Children|Comedy|Fantasy  \n",
            "1                   Adventure|Children|Fantasy  \n",
            "2                               Comedy|Romance  \n",
            "3                         Comedy|Drama|Romance  \n",
            "4                                       Comedy  \n"
          ]
        }
      ]
    },
    {
      "cell_type": "markdown",
      "source": [
        "Preprocesamiento de Datos:\n",
        "\n",
        "Realizaremos una limpieza básica y prepararemos los datos para su uso en los modelos de recomendación."
      ],
      "metadata": {
        "id": "LFm1onTPXLhR"
      }
    },
    {
      "cell_type": "code",
      "source": [
        "# Unir datos de calificaciones y películas\n",
        "data = pd.merge(ratings, movies, on='movieId')\n",
        "\n",
        "# Crear una tabla dinámica de usuarios y películas\n",
        "user_movie_matrix = data.pivot_table(index='userId', columns='title', values='rating')\n",
        "\n",
        "# Mostrar las primeras filas de la matriz usuario-película\n",
        "print(\"\\nMatriz usuario-película:\")\n",
        "print(user_movie_matrix.head())\n"
      ],
      "metadata": {
        "colab": {
          "base_uri": "https://localhost:8080/"
        },
        "id": "FvZcThvpW6F-",
        "outputId": "e61c8c16-522f-4378-e607-6f11410cca5e"
      },
      "execution_count": 17,
      "outputs": [
        {
          "output_type": "stream",
          "name": "stdout",
          "text": [
            "\n",
            "Matriz usuario-película:\n",
            "title   '71 (2014)  'Hellboy': The Seeds of Creation (2004)  \\\n",
            "userId                                                        \n",
            "1              NaN                                      NaN   \n",
            "2              NaN                                      NaN   \n",
            "3              NaN                                      NaN   \n",
            "4              NaN                                      NaN   \n",
            "5              NaN                                      NaN   \n",
            "\n",
            "title   'Round Midnight (1986)  'Salem's Lot (2004)  \\\n",
            "userId                                                \n",
            "1                          NaN                  NaN   \n",
            "2                          NaN                  NaN   \n",
            "3                          NaN                  NaN   \n",
            "4                          NaN                  NaN   \n",
            "5                          NaN                  NaN   \n",
            "\n",
            "title   'Til There Was You (1997)  'Tis the Season for Love (2015)  \\\n",
            "userId                                                               \n",
            "1                             NaN                              NaN   \n",
            "2                             NaN                              NaN   \n",
            "3                             NaN                              NaN   \n",
            "4                             NaN                              NaN   \n",
            "5                             NaN                              NaN   \n",
            "\n",
            "title   'burbs, The (1989)  'night Mother (1986)  (500) Days of Summer (2009)  \\\n",
            "userId                                                                          \n",
            "1                      NaN                   NaN                          NaN   \n",
            "2                      NaN                   NaN                          NaN   \n",
            "3                      NaN                   NaN                          NaN   \n",
            "4                      NaN                   NaN                          NaN   \n",
            "5                      NaN                   NaN                          NaN   \n",
            "\n",
            "title   *batteries not included (1987)  ...  Zulu (2013)  [REC] (2007)  \\\n",
            "userId                                  ...                              \n",
            "1                                  NaN  ...          NaN           NaN   \n",
            "2                                  NaN  ...          NaN           NaN   \n",
            "3                                  NaN  ...          NaN           NaN   \n",
            "4                                  NaN  ...          NaN           NaN   \n",
            "5                                  NaN  ...          NaN           NaN   \n",
            "\n",
            "title   [REC]² (2009)  [REC]³ 3 Génesis (2012)  \\\n",
            "userId                                           \n",
            "1                 NaN                      NaN   \n",
            "2                 NaN                      NaN   \n",
            "3                 NaN                      NaN   \n",
            "4                 NaN                      NaN   \n",
            "5                 NaN                      NaN   \n",
            "\n",
            "title   anohana: The Flower We Saw That Day - The Movie (2013)  \\\n",
            "userId                                                           \n",
            "1                                                     NaN        \n",
            "2                                                     NaN        \n",
            "3                                                     NaN        \n",
            "4                                                     NaN        \n",
            "5                                                     NaN        \n",
            "\n",
            "title   eXistenZ (1999)  xXx (2002)  xXx: State of the Union (2005)  \\\n",
            "userId                                                                \n",
            "1                   NaN         NaN                             NaN   \n",
            "2                   NaN         NaN                             NaN   \n",
            "3                   NaN         NaN                             NaN   \n",
            "4                   NaN         NaN                             NaN   \n",
            "5                   NaN         NaN                             NaN   \n",
            "\n",
            "title   ¡Three Amigos! (1986)  À nous la liberté (Freedom for Us) (1931)  \n",
            "userId                                                                    \n",
            "1                         4.0                                        NaN  \n",
            "2                         NaN                                        NaN  \n",
            "3                         NaN                                        NaN  \n",
            "4                         NaN                                        NaN  \n",
            "5                         NaN                                        NaN  \n",
            "\n",
            "[5 rows x 9719 columns]\n"
          ]
        }
      ]
    },
    {
      "cell_type": "markdown",
      "source": [
        "Filtrado Basado en Contenido:\n",
        "\n",
        "Calcularemos la similitud entre películas basándonos en sus géneros.​"
      ],
      "metadata": {
        "id": "pNjMIVFgXPpN"
      }
    },
    {
      "cell_type": "code",
      "source": [
        "# Crear una matriz TF-IDF de los géneros\n",
        "tfidf = TfidfVectorizer(stop_words='english')\n",
        "tfidf_matrix = tfidf.fit_transform(movies['genres'])\n",
        "\n",
        "# Calcular la similitud del coseno entre las películas\n",
        "cosine_sim = cosine_similarity(tfidf_matrix, tfidf_matrix)\n",
        "\n",
        "# Crear un DataFrame de similitud\n",
        "cosine_sim_df = pd.DataFrame(cosine_sim, index=movies['title'], columns=movies['title'])\n",
        "\n",
        "# Mostrar una parte de la matriz de similitud\n",
        "print(\"\\nMatriz de similitud de películas (basada en géneros):\")\n",
        "print(cosine_sim_df.head())\n"
      ],
      "metadata": {
        "colab": {
          "base_uri": "https://localhost:8080/"
        },
        "id": "ZqKkwhk9XBnI",
        "outputId": "80f85310-505b-421c-a2d5-db4ad2234710"
      },
      "execution_count": 18,
      "outputs": [
        {
          "output_type": "stream",
          "name": "stdout",
          "text": [
            "\n",
            "Matriz de similitud de películas (basada en géneros):\n",
            "title                               Toy Story (1995)  Jumanji (1995)  \\\n",
            "title                                                                  \n",
            "Toy Story (1995)                            1.000000        0.813578   \n",
            "Jumanji (1995)                              0.813578        1.000000   \n",
            "Grumpier Old Men (1995)                     0.152769        0.000000   \n",
            "Waiting to Exhale (1995)                    0.135135        0.000000   \n",
            "Father of the Bride Part II (1995)          0.267586        0.000000   \n",
            "\n",
            "title                               Grumpier Old Men (1995)  \\\n",
            "title                                                         \n",
            "Toy Story (1995)                                   0.152769   \n",
            "Jumanji (1995)                                     0.000000   \n",
            "Grumpier Old Men (1995)                            1.000000   \n",
            "Waiting to Exhale (1995)                           0.884571   \n",
            "Father of the Bride Part II (1995)                 0.570915   \n",
            "\n",
            "title                               Waiting to Exhale (1995)  \\\n",
            "title                                                          \n",
            "Toy Story (1995)                                    0.135135   \n",
            "Jumanji (1995)                                      0.000000   \n",
            "Grumpier Old Men (1995)                             0.884571   \n",
            "Waiting to Exhale (1995)                            1.000000   \n",
            "Father of the Bride Part II (1995)                  0.505015   \n",
            "\n",
            "title                               Father of the Bride Part II (1995)  \\\n",
            "title                                                                    \n",
            "Toy Story (1995)                                              0.267586   \n",
            "Jumanji (1995)                                                0.000000   \n",
            "Grumpier Old Men (1995)                                       0.570915   \n",
            "Waiting to Exhale (1995)                                      0.505015   \n",
            "Father of the Bride Part II (1995)                            1.000000   \n",
            "\n",
            "title                               Heat (1995)  Sabrina (1995)  \\\n",
            "title                                                             \n",
            "Toy Story (1995)                            0.0        0.152769   \n",
            "Jumanji (1995)                              0.0        0.000000   \n",
            "Grumpier Old Men (1995)                     0.0        1.000000   \n",
            "Waiting to Exhale (1995)                    0.0        0.884571   \n",
            "Father of the Bride Part II (1995)          0.0        0.570915   \n",
            "\n",
            "title                               Tom and Huck (1995)  Sudden Death (1995)  \\\n",
            "title                                                                          \n",
            "Toy Story (1995)                               0.654698                  0.0   \n",
            "Jumanji (1995)                                 0.804715                  0.0   \n",
            "Grumpier Old Men (1995)                        0.000000                  0.0   \n",
            "Waiting to Exhale (1995)                       0.000000                  0.0   \n",
            "Father of the Bride Part II (1995)             0.000000                  0.0   \n",
            "\n",
            "title                               GoldenEye (1995)  ...  \\\n",
            "title                                                 ...   \n",
            "Toy Story (1995)                            0.262413  ...   \n",
            "Jumanji (1995)                              0.322542  ...   \n",
            "Grumpier Old Men (1995)                     0.000000  ...   \n",
            "Waiting to Exhale (1995)                    0.000000  ...   \n",
            "Father of the Bride Part II (1995)          0.000000  ...   \n",
            "\n",
            "title                               Gintama: The Movie (2010)  \\\n",
            "title                                                           \n",
            "Toy Story (1995)                                     0.360397   \n",
            "Jumanji (1995)                                       0.000000   \n",
            "Grumpier Old Men (1995)                              0.162848   \n",
            "Waiting to Exhale (1995)                             0.144051   \n",
            "Father of the Bride Part II (1995)                   0.285240   \n",
            "\n",
            "title                               anohana: The Flower We Saw That Day - The Movie (2013)  \\\n",
            "title                                                                                        \n",
            "Toy Story (1995)                                                             0.465621        \n",
            "Jumanji (1995)                                                               0.000000        \n",
            "Grumpier Old Men (1995)                                                      0.000000        \n",
            "Waiting to Exhale (1995)                                                     0.201391        \n",
            "Father of the Bride Part II (1995)                                           0.000000        \n",
            "\n",
            "title                               Silver Spoon (2014)  \\\n",
            "title                                                     \n",
            "Toy Story (1995)                               0.196578   \n",
            "Jumanji (1995)                                 0.000000   \n",
            "Grumpier Old Men (1995)                        0.419413   \n",
            "Waiting to Exhale (1995)                       0.687440   \n",
            "Father of the Bride Part II (1995)             0.734632   \n",
            "\n",
            "title                               Love Live! The School Idol Movie (2015)  \\\n",
            "title                                                                         \n",
            "Toy Story (1995)                                                   0.516225   \n",
            "Jumanji (1995)                                                     0.000000   \n",
            "Grumpier Old Men (1995)                                            0.000000   \n",
            "Waiting to Exhale (1995)                                           0.000000   \n",
            "Father of the Bride Part II (1995)                                 0.000000   \n",
            "\n",
            "title                               Jon Stewart Has Left the Building (2015)  \\\n",
            "title                                                                          \n",
            "Toy Story (1995)                                                         0.0   \n",
            "Jumanji (1995)                                                           0.0   \n",
            "Grumpier Old Men (1995)                                                  0.0   \n",
            "Waiting to Exhale (1995)                                                 0.0   \n",
            "Father of the Bride Part II (1995)                                       0.0   \n",
            "\n",
            "title                               Black Butler: Book of the Atlantic (2017)  \\\n",
            "title                                                                           \n",
            "Toy Story (1995)                                                     0.680258   \n",
            "Jumanji (1995)                                                       0.341376   \n",
            "Grumpier Old Men (1995)                                              0.181883   \n",
            "Waiting to Exhale (1995)                                             0.160888   \n",
            "Father of the Bride Part II (1995)                                   0.318581   \n",
            "\n",
            "title                               No Game No Life: Zero (2017)  \\\n",
            "title                                                              \n",
            "Toy Story (1995)                                        0.755891   \n",
            "Jumanji (1995)                                          0.379331   \n",
            "Grumpier Old Men (1995)                                 0.202105   \n",
            "Waiting to Exhale (1995)                                0.178776   \n",
            "Father of the Bride Part II (1995)                      0.354002   \n",
            "\n",
            "title                               Flint (2017)  \\\n",
            "title                                              \n",
            "Toy Story (1995)                        0.000000   \n",
            "Jumanji (1995)                          0.000000   \n",
            "Grumpier Old Men (1995)                 0.000000   \n",
            "Waiting to Exhale (1995)                0.466405   \n",
            "Father of the Bride Part II (1995)      0.000000   \n",
            "\n",
            "title                               Bungo Stray Dogs: Dead Apple (2018)  \\\n",
            "title                                                                     \n",
            "Toy Story (1995)                                               0.421037   \n",
            "Jumanji (1995)                                                 0.000000   \n",
            "Grumpier Old Men (1995)                                        0.000000   \n",
            "Waiting to Exhale (1995)                                       0.000000   \n",
            "Father of the Bride Part II (1995)                             0.000000   \n",
            "\n",
            "title                               Andrew Dice Clay: Dice Rules (1991)  \n",
            "title                                                                    \n",
            "Toy Story (1995)                                               0.267586  \n",
            "Jumanji (1995)                                                 0.000000  \n",
            "Grumpier Old Men (1995)                                        0.570915  \n",
            "Waiting to Exhale (1995)                                       0.505015  \n",
            "Father of the Bride Part II (1995)                             1.000000  \n",
            "\n",
            "[5 rows x 9742 columns]\n"
          ]
        }
      ]
    },
    {
      "cell_type": "markdown",
      "source": [
        "Filtrado Colaborativo:\n",
        "\n",
        "Utilizaremos la descomposición en valores singulares (SVD) para predecir calificaciones faltantes."
      ],
      "metadata": {
        "id": "N-CrFYuBX5Dy"
      }
    },
    {
      "cell_type": "code",
      "source": [
        "# Reemplazar NaN con la media de la columna\n",
        "imputer = SimpleImputer(strategy='mean')\n",
        "user_movie_matrix_imputed = imputer.fit_transform(user_movie_matrix)\n",
        "\n",
        "# Aplicar SVD\n",
        "svd = TruncatedSVD(n_components=20)\n",
        "matrix_svd = svd.fit_transform(user_movie_matrix_imputed)\n",
        "\n",
        "# Mostrar la forma de la matriz SVD\n",
        "print(\"\\nForma de la matriz SVD:\")\n",
        "print(matrix_svd.shape)\n"
      ],
      "metadata": {
        "colab": {
          "base_uri": "https://localhost:8080/"
        },
        "id": "nXrxqi5qXWc-",
        "outputId": "48f3ed22-68ec-4bc3-c436-a6ae13e55bf4"
      },
      "execution_count": 19,
      "outputs": [
        {
          "output_type": "stream",
          "name": "stdout",
          "text": [
            "\n",
            "Forma de la matriz SVD:\n",
            "(610, 20)\n"
          ]
        }
      ]
    },
    {
      "cell_type": "markdown",
      "source": [
        "Generación de Recomendaciones:\n",
        "\n",
        "Crearemos funciones para obtener recomendaciones basadas en ambos métodos."
      ],
      "metadata": {
        "id": "DzeAM4dDXhog"
      }
    },
    {
      "cell_type": "code",
      "source": [
        "# Función para recomendaciones basadas en contenido\n",
        "def content_based_recommendations(title, cosine_sim_df, num_recommendations=5):\n",
        "    # Obtener las puntuaciones de similitud para la película dada\n",
        "    sim_scores = cosine_sim_df[title].sort_values(ascending=False)\n",
        "    # Excluir la película dada\n",
        "    sim_scores = sim_scores.drop(title)\n",
        "    # Seleccionar las películas más similares\n",
        "    top_movies = sim_scores.head(num_recommendations).index\n",
        "    return top_movies\n",
        "\n",
        "# Función para recomendaciones basadas en filtrado colaborativo\n",
        "def collaborative_recommendations(user_id, user_movie_matrix, matrix_svd, num_recommendations=5):\n",
        "    # Obtener las calificaciones del usuario\n",
        "    user_ratings = user_movie_matrix.loc[user_id].values\n",
        "    # Predecir las calificaciones para todas las películas\n",
        "    user_predicted_ratings = np.dot(matrix_svd[user_id - 1], svd.components_)\n",
        "    # Crear un DataFrame con las calificaciones previstas\n",
        "    predicted_ratings_df = pd.DataFrame(user_predicted_ratings, index=user_movie_matrix.columns, columns=['PredictedRating'])\n",
        "    # Ordenar las películas por calificación prevista\n",
        "    top_movies = predicted_ratings_df.sort_values(by='PredictedRating', ascending=False).head(num_recommendations).index\n",
        "    return top_movies\n"
      ],
      "metadata": {
        "id": "VN2BJRfRXcne"
      },
      "execution_count": 20,
      "outputs": []
    },
    {
      "cell_type": "markdown",
      "source": [
        "Ejemplos de Uso y Visualización:\n",
        "\n",
        "Mostraremos ejemplos de recomendaciones y visualizaremos los resultados."
      ],
      "metadata": {
        "id": "55pbJeKEX1ED"
      }
    },
    {
      "cell_type": "code",
      "source": [
        "# Ejemplo de recomendaciones basadas en contenido\n",
        "movie_title = 'Toy Story (1995)'\n",
        "print(f\"\\nPelículas similares a '{movie_title}':\")\n",
        "similar_movies = content_based_recommendations(movie_title, cosine_sim_df)\n",
        "for i, movie in enumerate(similar_movies, 1):\n",
        "    print(f\"{i}. {movie}\")\n",
        "\n",
        "# Ejemplo de recomendaciones basadas en filtrado colaborativo\n",
        "user_id = 1\n",
        "print(f\"\\nRecomendaciones para el usuario {user_id}:\")\n",
        "recommended_movies = collaborative_recommendations(user_id, user_movie_matrix, matrix_svd)\n",
        "for i, movie in enumerate(recommended_movies, 1):\n",
        "    print(f\"{i}. {movie}\")\n",
        "\n",
        "# Visualización de la distribución de calificaciones\n",
        "plt.figure(figsize=(10, 6))\n",
        "sns.histplot(ratings['rating'], bins=10, kde=True)\n",
        "plt.title('Distribución de Calificaciones')\n",
        "plt.xlabel('Calificación')\n",
        "plt.ylabel('Frecuencia')\n",
        "plt.show()\n"
      ],
      "metadata": {
        "colab": {
          "base_uri": "https://localhost:8080/",
          "height": 819
        },
        "id": "tR2t5M6AXkxu",
        "outputId": "6dc7cbfd-9a61-405a-f4a8-ee9c55c5101f"
      },
      "execution_count": 21,
      "outputs": [
        {
          "output_type": "stream",
          "name": "stdout",
          "text": [
            "\n",
            "Películas similares a 'Toy Story (1995)':\n",
            "1. Shrek the Third (2007)\n",
            "2. Wild, The (2006)\n",
            "3. Monsters, Inc. (2001)\n",
            "4. Emperor's New Groove, The (2000)\n",
            "5. Antz (1998)\n",
            "\n",
            "Recomendaciones para el usuario 1:\n",
            "1. 'Salem's Lot (2004)\n",
            "2. George Carlin: Back in Town (1996)\n",
            "3. Alesha Popovich and Tugarin the Dragon (2004)\n",
            "4. Ex Drummer (2007)\n",
            "5. Advise and Consent (1962)\n"
          ]
        },
        {
          "output_type": "display_data",
          "data": {
            "text/plain": [
              "<Figure size 1000x600 with 1 Axes>"
            ],
            "image/png": "[encoded data removed]"
          },
          "metadata": {}
        }
      ]
    }
  ]
}